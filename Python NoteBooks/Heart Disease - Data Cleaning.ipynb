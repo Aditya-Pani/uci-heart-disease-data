{
 "cells": [
  {
   "cell_type": "code",
   "execution_count": 0,
   "metadata": {
    "application/vnd.databricks.v1+cell": {
     "cellMetadata": {
      "byteLimit": 2048000,
      "rowLimit": 10000
     },
     "inputWidgets": {},
     "nuid": "2e71d55f-598a-4da7-9409-9e827f3e89ae",
     "showTitle": false,
     "tableResultSettingsMap": {},
     "title": ""
    }
   },
   "outputs": [],
   "source": [
    "# Importing Libraries\n",
    "from pyspark.sql import SparkSession\n",
    "from pyspark.sql.types import *\n",
    "from pyspark.sql.functions import *"
   ]
  },
  {
   "cell_type": "code",
   "execution_count": 0,
   "metadata": {
    "application/vnd.databricks.v1+cell": {
     "cellMetadata": {
      "byteLimit": 2048000,
      "rowLimit": 10000
     },
     "inputWidgets": {},
     "nuid": "4ad9b2a9-678a-45a0-9c95-7dd74fd6e557",
     "showTitle": false,
     "tableResultSettingsMap": {},
     "title": ""
    }
   },
   "outputs": [],
   "source": [
    "# Creating Spark Object\n",
    "\n",
    "spark = SparkSession.builder.appName(\"Data Cleaning\").getOrCreate()"
   ]
  },
  {
   "cell_type": "code",
   "execution_count": 0,
   "metadata": {
    "application/vnd.databricks.v1+cell": {
     "cellMetadata": {
      "byteLimit": 2048000,
      "rowLimit": 10000
     },
     "inputWidgets": {},
     "nuid": "86642379-19fb-405c-90eb-a4b6904be7e7",
     "showTitle": false,
     "tableResultSettingsMap": {},
     "title": ""
    }
   },
   "outputs": [],
   "source": [
    "# Read raw data\n",
    "df = spark.read.format(\"delta\").load(\"/dbfs/FileStore/Heart Disease/heart_ingestion\")"
   ]
  },
  {
   "cell_type": "code",
   "execution_count": 0,
   "metadata": {
    "application/vnd.databricks.v1+cell": {
     "cellMetadata": {
      "byteLimit": 2048000,
      "rowLimit": 10000
     },
     "inputWidgets": {},
     "nuid": "6fcc68e9-5306-45ff-98fc-e27e9e3b7b42",
     "showTitle": false,
     "tableResultSettingsMap": {},
     "title": ""
    }
   },
   "outputs": [
    {
     "output_type": "stream",
     "name": "stdout",
     "output_type": "stream",
     "text": [
      "root\n |-- id: integer (nullable = true)\n |-- age: integer (nullable = true)\n |-- sex: string (nullable = true)\n |-- dataset: string (nullable = true)\n |-- cp: string (nullable = true)\n |-- trestbps: integer (nullable = true)\n |-- chol: integer (nullable = true)\n |-- fbs: boolean (nullable = true)\n |-- restecg: string (nullable = true)\n |-- thalch: integer (nullable = true)\n |-- exang: boolean (nullable = true)\n |-- oldpeak: double (nullable = true)\n |-- slope: string (nullable = true)\n |-- ca: integer (nullable = true)\n |-- thal: string (nullable = true)\n |-- num: integer (nullable = true)\n\n"
     ]
    }
   ],
   "source": [
    "df.printSchema()"
   ]
  },
  {
   "cell_type": "code",
   "execution_count": 0,
   "metadata": {
    "application/vnd.databricks.v1+cell": {
     "cellMetadata": {
      "byteLimit": 2048000,
      "rowLimit": 10000
     },
     "inputWidgets": {},
     "nuid": "9444d552-4d91-44d0-b290-f5b4f6fed5bf",
     "showTitle": false,
     "tableResultSettingsMap": {},
     "title": ""
    }
   },
   "outputs": [
    {
     "output_type": "stream",
     "name": "stdout",
     "output_type": "stream",
     "text": [
      "The Data Frame has 920 rows.\n"
     ]
    }
   ],
   "source": [
    "# Total Rows Of Data Frame\n",
    "\n",
    "print(f\"The Data Frame has {df.count()} rows.\")"
   ]
  },
  {
   "cell_type": "code",
   "execution_count": 0,
   "metadata": {
    "application/vnd.databricks.v1+cell": {
     "cellMetadata": {
      "byteLimit": 2048000,
      "rowLimit": 10000
     },
     "inputWidgets": {},
     "nuid": "a8ff4bc4-17d6-40c1-813b-9156a49cae99",
     "showTitle": false,
     "tableResultSettingsMap": {},
     "title": ""
    }
   },
   "outputs": [
    {
     "output_type": "stream",
     "name": "stdout",
     "output_type": "stream",
     "text": [
      "+---+-----+\n| id|count|\n+---+-----+\n+---+-----+\n\n"
     ]
    }
   ],
   "source": [
    "# Check For Duplicate Rows\n",
    "\n",
    "df.groupBy(\"id\").count().filter(\"count>1\").show()"
   ]
  },
  {
   "cell_type": "code",
   "execution_count": 0,
   "metadata": {
    "application/vnd.databricks.v1+cell": {
     "cellMetadata": {
      "byteLimit": 2048000,
      "rowLimit": 10000
     },
     "inputWidgets": {},
     "nuid": "1cbe186a-94b4-4f44-8bc7-ca2b834d69bf",
     "showTitle": false,
     "tableResultSettingsMap": {},
     "title": ""
    }
   },
   "outputs": [
    {
     "output_type": "stream",
     "name": "stdout",
     "output_type": "stream",
     "text": [
      "+---+---+---+-------+---+--------+----+---+-------+------+-----+-------+-----+---+----+---+\n| id|age|sex|dataset| cp|trestbps|chol|fbs|restecg|thalch|exang|oldpeak|slope| ca|thal|num|\n+---+---+---+-------+---+--------+----+---+-------+------+-----+-------+-----+---+----+---+\n|  0|  0|  0|      0|  0|      59|  30| 90|      2|    55|   55|     62|  309|611| 486|  0|\n+---+---+---+-------+---+--------+----+---+-------+------+-----+-------+-----+---+----+---+\n\n"
     ]
    }
   ],
   "source": [
    "# Checking For Null Values\n",
    "\n",
    "df.select([count(when(col(c).isNull(),1)).alias(c) for c in df.columns]).show()\n"
   ]
  },
  {
   "cell_type": "code",
   "execution_count": 0,
   "metadata": {
    "application/vnd.databricks.v1+cell": {
     "cellMetadata": {
      "byteLimit": 2048000,
      "rowLimit": 10000
     },
     "inputWidgets": {},
     "nuid": "36904fca-8ff4-49a1-9bd1-0d6071550895",
     "showTitle": false,
     "tableResultSettingsMap": {},
     "title": ""
    }
   },
   "outputs": [],
   "source": [
    "# Rename \"num\" to \"stage\"\n",
    "df = df.withColumnRenamed(\"num\", \"stage\")\n"
   ]
  },
  {
   "cell_type": "code",
   "execution_count": 0,
   "metadata": {
    "application/vnd.databricks.v1+cell": {
     "cellMetadata": {
      "byteLimit": 2048000,
      "rowLimit": 10000
     },
     "inputWidgets": {},
     "nuid": "d954c8b7-64fd-4610-9a93-eece8e8f8eaa",
     "showTitle": false,
     "tableResultSettingsMap": {},
     "title": ""
    }
   },
   "outputs": [],
   "source": [
    "# Filling missing value with mean For trestbps\n",
    "mean_value = df.select(mean(\"trestbps\")).collect()[0][0]\n",
    "df = df.fillna({\"trestbps\": mean_value})"
   ]
  },
  {
   "cell_type": "code",
   "execution_count": 0,
   "metadata": {
    "application/vnd.databricks.v1+cell": {
     "cellMetadata": {
      "byteLimit": 2048000,
      "rowLimit": 10000
     },
     "inputWidgets": {},
     "nuid": "a70d8680-bcc5-4974-ac1f-846d0c860149",
     "showTitle": false,
     "tableResultSettingsMap": {},
     "title": ""
    }
   },
   "outputs": [],
   "source": [
    "# Filling missing value with mean For chol\n",
    "\n",
    "mean_value=df.select(mean(\"chol\")).collect()[0][0]\n",
    "df = df.fillna({\"chol\": mean_value})"
   ]
  },
  {
   "cell_type": "code",
   "execution_count": 0,
   "metadata": {
    "application/vnd.databricks.v1+cell": {
     "cellMetadata": {
      "byteLimit": 2048000,
      "rowLimit": 10000
     },
     "inputWidgets": {},
     "nuid": "c124abc6-446f-4ff7-94d3-1c0f6bcc4b75",
     "showTitle": false,
     "tableResultSettingsMap": {},
     "title": ""
    }
   },
   "outputs": [
    {
     "output_type": "stream",
     "name": "stdout",
     "output_type": "stream",
     "text": [
      "+-----+-----+\n|  fbs|count|\n+-----+-----+\n| null|   90|\n| true|  138|\n|false|  692|\n+-----+-----+\n\n"
     ]
    }
   ],
   "source": [
    "# Distribution Of fbs\n",
    "\n",
    "df.groupBy(\"fbs\").count().show()"
   ]
  },
  {
   "cell_type": "code",
   "execution_count": 0,
   "metadata": {
    "application/vnd.databricks.v1+cell": {
     "cellMetadata": {
      "byteLimit": 2048000,
      "rowLimit": 10000
     },
     "inputWidgets": {},
     "nuid": "475f4ae7-6009-4608-8f99-864145e743a7",
     "showTitle": false,
     "tableResultSettingsMap": {},
     "title": ""
    }
   },
   "outputs": [],
   "source": [
    "# Imputing fbs By False\n",
    "\n",
    "df = df.fillna({\"fbs\": False})"
   ]
  },
  {
   "cell_type": "code",
   "execution_count": 0,
   "metadata": {
    "application/vnd.databricks.v1+cell": {
     "cellMetadata": {
      "byteLimit": 2048000,
      "rowLimit": 10000
     },
     "inputWidgets": {},
     "nuid": "64128f25-cf28-47fa-9096-1ed5a4e70d31",
     "showTitle": false,
     "tableResultSettingsMap": {},
     "title": ""
    }
   },
   "outputs": [
    {
     "output_type": "stream",
     "name": "stdout",
     "output_type": "stream",
     "text": [
      "+----------------+-----+\n|         restecg|count|\n+----------------+-----+\n|  lv hypertrophy|  188|\n|            null|    2|\n|          normal|  551|\n|st-t abnormality|  179|\n+----------------+-----+\n\n"
     ]
    }
   ],
   "source": [
    "# Distribution Of restecg\n",
    "\n",
    "df.groupBy(\"restecg\").count().show()"
   ]
  },
  {
   "cell_type": "code",
   "execution_count": 0,
   "metadata": {
    "application/vnd.databricks.v1+cell": {
     "cellMetadata": {
      "byteLimit": 2048000,
      "rowLimit": 10000
     },
     "inputWidgets": {},
     "nuid": "37c0436e-2a12-42d4-8048-b210ff201a4d",
     "showTitle": false,
     "tableResultSettingsMap": {},
     "title": ""
    }
   },
   "outputs": [],
   "source": [
    "# Imputing restecg By Normal\n",
    "\n",
    "df = df.fillna({\"fbs\": \"normal\"})"
   ]
  },
  {
   "cell_type": "code",
   "execution_count": 0,
   "metadata": {
    "application/vnd.databricks.v1+cell": {
     "cellMetadata": {
      "byteLimit": 2048000,
      "rowLimit": 10000
     },
     "inputWidgets": {},
     "nuid": "6e241e97-34c3-4cac-a1f8-e2f732c2a483",
     "showTitle": false,
     "tableResultSettingsMap": {},
     "title": ""
    }
   },
   "outputs": [],
   "source": [
    "# Filling missing value with mean For thalch\n",
    "\n",
    "mean_value=df.select(mean(\"thalch\")).collect()[0][0]\n",
    "df = df.na.fill({\"thalch\": mean_value})\n"
   ]
  },
  {
   "cell_type": "code",
   "execution_count": 0,
   "metadata": {
    "application/vnd.databricks.v1+cell": {
     "cellMetadata": {
      "byteLimit": 2048000,
      "rowLimit": 10000
     },
     "inputWidgets": {},
     "nuid": "7dd36cc8-b97b-4407-8f92-5f71ac9a2883",
     "showTitle": false,
     "tableResultSettingsMap": {},
     "title": ""
    }
   },
   "outputs": [
    {
     "output_type": "stream",
     "name": "stdout",
     "output_type": "stream",
     "text": [
      "+-----+-----+\n|exang|count|\n+-----+-----+\n| null|   55|\n| true|  337|\n|false|  528|\n+-----+-----+\n\n"
     ]
    }
   ],
   "source": [
    "# Distribution Of exang\n",
    "\n",
    "df.groupBy(\"exang\").count().show()"
   ]
  },
  {
   "cell_type": "code",
   "execution_count": 0,
   "metadata": {
    "application/vnd.databricks.v1+cell": {
     "cellMetadata": {
      "byteLimit": 2048000,
      "rowLimit": 10000
     },
     "inputWidgets": {},
     "nuid": "366d9877-39ab-42d4-901a-76199b9e2c16",
     "showTitle": false,
     "tableResultSettingsMap": {},
     "title": ""
    }
   },
   "outputs": [],
   "source": [
    "# Filling missing value Fot exang\n",
    "\n",
    "df = df.fillna({\"exang\":False})"
   ]
  },
  {
   "cell_type": "code",
   "execution_count": 0,
   "metadata": {
    "application/vnd.databricks.v1+cell": {
     "cellMetadata": {
      "byteLimit": 2048000,
      "rowLimit": 10000
     },
     "inputWidgets": {},
     "nuid": "acd9748a-e3a3-4d6a-980c-d11b236911a0",
     "showTitle": false,
     "tableResultSettingsMap": {},
     "title": ""
    }
   },
   "outputs": [],
   "source": [
    "# Filling missing value with mean For oldpeak\n",
    "\n",
    "mean_value=df.select(mean(\"oldpeak\")).collect()[0][0]\n",
    "df = df.na.fill({\"oldpeak\": mean_value})"
   ]
  },
  {
   "cell_type": "code",
   "execution_count": 0,
   "metadata": {
    "application/vnd.databricks.v1+cell": {
     "cellMetadata": {
      "byteLimit": 2048000,
      "rowLimit": 10000
     },
     "inputWidgets": {},
     "nuid": "be7613c2-a92c-440e-b5c1-858455f0b43c",
     "showTitle": false,
     "tableResultSettingsMap": {},
     "title": ""
    }
   },
   "outputs": [
    {
     "output_type": "stream",
     "name": "stdout",
     "output_type": "stream",
     "text": [
      "+-----------+-----+\n|      slope|count|\n+-----------+-----+\n|       flat|  345|\n|       null|  309|\n|  upsloping|  203|\n|downsloping|   63|\n+-----------+-----+\n\n"
     ]
    }
   ],
   "source": [
    "# Distribution Of slope\n",
    "\n",
    "df.groupBy(\"slope\").count().orderBy(\"count\",ascending = False).show()"
   ]
  },
  {
   "cell_type": "code",
   "execution_count": 0,
   "metadata": {
    "application/vnd.databricks.v1+cell": {
     "cellMetadata": {
      "byteLimit": 2048000,
      "rowLimit": 10000
     },
     "inputWidgets": {},
     "nuid": "fdac2487-d8c0-46af-b5ab-4866fe327049",
     "showTitle": false,
     "tableResultSettingsMap": {},
     "title": ""
    }
   },
   "outputs": [],
   "source": [
    "# Imputing slope with flat\n",
    "df = df.fillna({\"slope\":\"flat\"})"
   ]
  },
  {
   "cell_type": "code",
   "execution_count": 0,
   "metadata": {
    "application/vnd.databricks.v1+cell": {
     "cellMetadata": {
      "byteLimit": 2048000,
      "rowLimit": 10000
     },
     "inputWidgets": {},
     "nuid": "2c2086d2-5e8f-4580-80b5-6122f89b7031",
     "showTitle": false,
     "tableResultSettingsMap": {},
     "title": ""
    }
   },
   "outputs": [
    {
     "output_type": "stream",
     "name": "stdout",
     "output_type": "stream",
     "text": [
      "+----+-----+\n|  ca|count|\n+----+-----+\n|null|  611|\n|   1|   67|\n|   3|   20|\n|   2|   41|\n|   0|  181|\n+----+-----+\n\n"
     ]
    }
   ],
   "source": [
    "# Distribution Of ca\n",
    "\n",
    "df.groupBy(\"ca\").count().show()"
   ]
  },
  {
   "cell_type": "code",
   "execution_count": 0,
   "metadata": {
    "application/vnd.databricks.v1+cell": {
     "cellMetadata": {
      "byteLimit": 2048000,
      "rowLimit": 10000
     },
     "inputWidgets": {},
     "nuid": "99c87cf3-f63c-4d65-9d9e-964fec2d035e",
     "showTitle": false,
     "tableResultSettingsMap": {},
     "title": ""
    }
   },
   "outputs": [],
   "source": [
    "# Imputng ca with 0\n",
    "df = df.fillna({\"ca\":0})"
   ]
  },
  {
   "cell_type": "code",
   "execution_count": 0,
   "metadata": {
    "application/vnd.databricks.v1+cell": {
     "cellMetadata": {
      "byteLimit": 2048000,
      "rowLimit": 10000
     },
     "inputWidgets": {},
     "nuid": "dfa7231a-17e4-4ca1-bcdd-a23a1c52db92",
     "showTitle": false,
     "tableResultSettingsMap": {},
     "title": ""
    }
   },
   "outputs": [
    {
     "output_type": "stream",
     "name": "stdout",
     "output_type": "stream",
     "text": [
      "+-----------------+-----+\n|             thal|count|\n+-----------------+-----+\n|             null|  486|\n|           normal|  196|\n|reversable defect|  192|\n|     fixed defect|   46|\n+-----------------+-----+\n\n"
     ]
    }
   ],
   "source": [
    "# Distribution Of thal\n",
    "\n",
    "df.groupBy(\"thal\").count().orderBy(\"count\",ascending = False).show()"
   ]
  },
  {
   "cell_type": "code",
   "execution_count": 0,
   "metadata": {
    "application/vnd.databricks.v1+cell": {
     "cellMetadata": {
      "byteLimit": 2048000,
      "rowLimit": 10000
     },
     "inputWidgets": {},
     "nuid": "d5bb6848-3250-40f0-9462-74b7adc17032",
     "showTitle": false,
     "tableResultSettingsMap": {},
     "title": ""
    }
   },
   "outputs": [],
   "source": [
    "# Imputng thal with normal\n",
    "df = df.fillna({\"thal\":\"normal\"})"
   ]
  },
  {
   "cell_type": "code",
   "execution_count": 0,
   "metadata": {
    "application/vnd.databricks.v1+cell": {
     "cellMetadata": {
      "byteLimit": 2048000,
      "rowLimit": 10000
     },
     "inputWidgets": {},
     "nuid": "7a952b76-6c88-4fdf-92c2-1ecf8e2d45df",
     "showTitle": false,
     "tableResultSettingsMap": {},
     "title": ""
    }
   },
   "outputs": [
    {
     "output_type": "stream",
     "name": "stdout",
     "output_type": "stream",
     "text": [
      "+----------------+-----+\n|         restecg|count|\n+----------------+-----+\n|          normal|  551|\n|  lv hypertrophy|  188|\n|st-t abnormality|  179|\n|            null|    2|\n+----------------+-----+\n\n"
     ]
    }
   ],
   "source": [
    "# Distribution Of restecg\n",
    "\n",
    "df.groupBy(\"restecg\").count().orderBy(\"count\",ascending = False).show()"
   ]
  },
  {
   "cell_type": "code",
   "execution_count": 0,
   "metadata": {
    "application/vnd.databricks.v1+cell": {
     "cellMetadata": {
      "byteLimit": 2048000,
      "rowLimit": 10000
     },
     "inputWidgets": {},
     "nuid": "9a781ec8-d115-4b63-9d71-653358c00d7f",
     "showTitle": false,
     "tableResultSettingsMap": {},
     "title": ""
    }
   },
   "outputs": [],
   "source": [
    "# Imputng restecg with normal\n",
    "df = df.fillna({\"restecg\":\"normal\"})"
   ]
  },
  {
   "cell_type": "code",
   "execution_count": 0,
   "metadata": {
    "application/vnd.databricks.v1+cell": {
     "cellMetadata": {
      "byteLimit": 2048000,
      "rowLimit": 10000
     },
     "inputWidgets": {},
     "nuid": "5c873f1e-d077-4323-bfbd-de3e276b68b7",
     "showTitle": false,
     "tableResultSettingsMap": {},
     "title": ""
    }
   },
   "outputs": [
    {
     "output_type": "stream",
     "name": "stdout",
     "output_type": "stream",
     "text": [
      "+---+---+---+-------+---+--------+----+---+-------+------+-----+-------+-----+---+----+-----+\n| id|age|sex|dataset| cp|trestbps|chol|fbs|restecg|thalch|exang|oldpeak|slope| ca|thal|stage|\n+---+---+---+-------+---+--------+----+---+-------+------+-----+-------+-----+---+----+-----+\n|  0|  0|  0|      0|  0|       0|   0|  0|      0|     0|    0|      0|    0|  0|   0|    0|\n+---+---+---+-------+---+--------+----+---+-------+------+-----+-------+-----+---+----+-----+\n\n"
     ]
    }
   ],
   "source": [
    "# Checking For Null Values\n",
    "df.select([count(when(col(c).isNull(),1)).alias(c) for c in df.columns]).show()"
   ]
  },
  {
   "cell_type": "code",
   "execution_count": 0,
   "metadata": {
    "application/vnd.databricks.v1+cell": {
     "cellMetadata": {
      "byteLimit": 2048000,
      "rowLimit": 10000
     },
     "inputWidgets": {},
     "nuid": "9507bbb3-ae92-4275-aaee-a2b2d1274b5f",
     "showTitle": false,
     "tableResultSettingsMap": {},
     "title": ""
    }
   },
   "outputs": [],
   "source": [
    "# Save cleaned\n",
    "df.write.format(\"delta\").mode(\"overwrite\").save(\"/dbfs/FileStore/Heart Disease/heart_cleaned\")"
   ]
  }
 ],
 "metadata": {
  "application/vnd.databricks.v1+notebook": {
   "computePreferences": null,
   "dashboards": [],
   "environmentMetadata": {
    "base_environment": "",
    "environment_version": "1"
   },
   "inputWidgetPreferences": null,
   "language": "python",
   "notebookMetadata": {
    "pythonIndentUnit": 4
   },
   "notebookName": "Heart Disease - Data Cleaning",
   "widgets": {}
  }
 },
 "nbformat": 4,
 "nbformat_minor": 0
}