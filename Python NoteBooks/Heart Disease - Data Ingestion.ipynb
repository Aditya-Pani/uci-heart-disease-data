{
 "cells": [
  {
   "cell_type": "code",
   "execution_count": 0,
   "metadata": {
    "application/vnd.databricks.v1+cell": {
     "cellMetadata": {
      "byteLimit": 2048000,
      "rowLimit": 10000
     },
     "inputWidgets": {},
     "nuid": "f73fcb68-299d-480a-bc56-d6ebcca17f33",
     "showTitle": false,
     "tableResultSettingsMap": {},
     "title": ""
    }
   },
   "outputs": [],
   "source": [
    "# Import Spark Session\n",
    "\n",
    "from pyspark.sql import SparkSession\n",
    "from pyspark.sql.types import *\n",
    "from pyspark.sql.functions import col,count,when"
   ]
  },
  {
   "cell_type": "code",
   "execution_count": 0,
   "metadata": {
    "application/vnd.databricks.v1+cell": {
     "cellMetadata": {
      "byteLimit": 2048000,
      "rowLimit": 10000
     },
     "inputWidgets": {},
     "nuid": "13a2e72d-401f-4578-aa71-6fc00042015a",
     "showTitle": false,
     "tableResultSettingsMap": {},
     "title": ""
    }
   },
   "outputs": [],
   "source": [
    "# Creating Spark Object\n",
    "\n",
    "spark = SparkSession.builder.appName(\"Data Ingestion\").getOrCreate()"
   ]
  },
  {
   "cell_type": "code",
   "execution_count": 0,
   "metadata": {
    "application/vnd.databricks.v1+cell": {
     "cellMetadata": {
      "byteLimit": 2048000,
      "rowLimit": 10000
     },
     "inputWidgets": {},
     "nuid": "97733711-facc-46cd-9716-c31da95b2491",
     "showTitle": false,
     "tableResultSettingsMap": {},
     "title": ""
    }
   },
   "outputs": [],
   "source": [
    "# Defining Schema\n",
    "\n",
    "schema = StructType([\n",
    "    StructField(\"id\", IntegerType(), True),\n",
    "    StructField(\"age\", IntegerType(), True),\n",
    "    StructField(\"sex\", StringType(), True),\n",
    "    StructField(\"dataset\", StringType(), True),\n",
    "    StructField(\"cp\", StringType(), True),\n",
    "    StructField(\"trestbps\", IntegerType(), True),\n",
    "    StructField(\"chol\", IntegerType(), True),\n",
    "    StructField(\"fbs\", BooleanType(), True),\n",
    "    StructField(\"restecg\", StringType(), True),\n",
    "    StructField(\"thalch\", IntegerType(), True),\n",
    "    StructField(\"exang\", BooleanType(), True),\n",
    "    StructField(\"oldpeak\", DoubleType(), True),\n",
    "    StructField(\"slope\", StringType(), True),\n",
    "    StructField(\"ca\", IntegerType(), True),\n",
    "    StructField(\"thal\", StringType(), True),\n",
    "    StructField(\"num\", IntegerType(), True)\n",
    "])\n"
   ]
  },
  {
   "cell_type": "code",
   "execution_count": 0,
   "metadata": {
    "application/vnd.databricks.v1+cell": {
     "cellMetadata": {
      "byteLimit": 2048000,
      "rowLimit": 10000
     },
     "inputWidgets": {},
     "nuid": "312d54c7-4e86-411d-922d-23e50103108a",
     "showTitle": false,
     "tableResultSettingsMap": {},
     "title": ""
    }
   },
   "outputs": [],
   "source": [
    "df = spark.read.format(\"csv\").option(\"header\", \"true\").schema(schema).load(\"dbfs:/FileStore/shared_uploads/adityapani5@gmail.com/heart_disease_uci.csv\")"
   ]
  },
  {
   "cell_type": "code",
   "execution_count": 0,
   "metadata": {
    "application/vnd.databricks.v1+cell": {
     "cellMetadata": {
      "byteLimit": 2048000,
      "rowLimit": 10000
     },
     "inputWidgets": {},
     "nuid": "dbb80376-ff29-43d5-be74-76968cb47683",
     "showTitle": false,
     "tableResultSettingsMap": {},
     "title": ""
    }
   },
   "outputs": [
    {
     "output_type": "stream",
     "name": "stdout",
     "output_type": "stream",
     "text": [
      "+---+---+------+---------+---------------+--------+----+-----+--------------+------+-----+-------+-----------+---+-----------------+---+\n| id|age|   sex|  dataset|             cp|trestbps|chol|  fbs|       restecg|thalch|exang|oldpeak|      slope| ca|             thal|num|\n+---+---+------+---------+---------------+--------+----+-----+--------------+------+-----+-------+-----------+---+-----------------+---+\n|  1| 63|  Male|Cleveland| typical angina|     145| 233| true|lv hypertrophy|   150|false|    2.3|downsloping|  0|     fixed defect|  0|\n|  2| 67|  Male|Cleveland|   asymptomatic|     160| 286|false|lv hypertrophy|   108| true|    1.5|       flat|  3|           normal|  2|\n|  3| 67|  Male|Cleveland|   asymptomatic|     120| 229|false|lv hypertrophy|   129| true|    2.6|       flat|  2|reversable defect|  1|\n|  4| 37|  Male|Cleveland|    non-anginal|     130| 250|false|        normal|   187|false|    3.5|downsloping|  0|           normal|  0|\n|  5| 41|Female|Cleveland|atypical angina|     130| 204|false|lv hypertrophy|   172|false|    1.4|  upsloping|  0|           normal|  0|\n+---+---+------+---------+---------------+--------+----+-----+--------------+------+-----+-------+-----------+---+-----------------+---+\nonly showing top 5 rows\n\n"
     ]
    }
   ],
   "source": [
    "# Showing The DataFrame\n",
    "df.show(5)"
   ]
  },
  {
   "cell_type": "code",
   "execution_count": 0,
   "metadata": {
    "application/vnd.databricks.v1+cell": {
     "cellMetadata": {
      "byteLimit": 2048000,
      "rowLimit": 10000
     },
     "inputWidgets": {},
     "nuid": "f93403da-9da2-4b16-aab2-eff28eccbe58",
     "showTitle": false,
     "tableResultSettingsMap": {},
     "title": ""
    }
   },
   "outputs": [],
   "source": [
    "# Write to Delta\n",
    "df.write.format(\"delta\").mode(\"overwrite\").save(\"/dbfs/FileStore/Heart Disease/heart_ingestion\")"
   ]
  }
 ],
 "metadata": {
  "application/vnd.databricks.v1+notebook": {
   "computePreferences": null,
   "dashboards": [],
   "environmentMetadata": {
    "base_environment": "",
    "environment_version": "1"
   },
   "inputWidgetPreferences": null,
   "language": "python",
   "notebookMetadata": {
    "pythonIndentUnit": 4
   },
   "notebookName": "Heart Disease - Data Ingestion",
   "widgets": {}
  }
 },
 "nbformat": 4,
 "nbformat_minor": 0
}